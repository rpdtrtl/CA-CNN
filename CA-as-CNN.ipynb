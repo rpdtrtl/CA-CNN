{
 "cells": [
  {
   "cell_type": "code",
   "execution_count": 1,
   "metadata": {},
   "outputs": [],
   "source": [
    "# Importing the required libraries\n",
    "import torch\n",
    "import torch.nn as nn\n",
    "import matplotlib.pyplot as plt\n",
    "from matplotlib import colors\n",
    "import numpy as np\n",
    "from scipy.signal import convolve2d\n",
    "from torch.optim.lr_scheduler import StepLR"
   ]
  },
  {
   "cell_type": "code",
   "execution_count": 2,
   "metadata": {},
   "outputs": [
    {
     "name": "stdout",
     "output_type": "stream",
     "text": [
      "Device: cuda\n"
     ]
    }
   ],
   "source": [
    "# Setting device to cuda if possible to optimize the performance\n",
    "# by using GPU instead of CPU\n",
    "device = torch.device(\"cuda\" if torch.cuda.is_available() else \"cpu\")\n",
    "print('Device:', device)"
   ]
  },
  {
   "cell_type": "code",
   "execution_count": 3,
   "metadata": {
    "tags": [
     "parameters"
    ]
   },
   "outputs": [],
   "source": [
    "# CA rules:\n",
    "# Number of alive neighbors that suffice CA rule set\n",
    "neighbors_max, neighbors_min = 3, 2\n",
    "# Number of states in the CA\n",
    "states = 2\n",
    "\n",
    "# Kernel options:\n",
    "# Filter(kernel) size used in layer convolutions\n",
    "filter_size = 3\n",
    "# Singular value of padding used in the circular_pad functionof ScanLayer\n",
    "pad_div = (filter_size - 1) // 2\n",
    "# Combined variable used in the circular_pad function of ScanLayer\n",
    "custom_padding = (pad_div, pad_div, pad_div, pad_div)\n",
    "\n",
    "# Batch options:\n",
    "# Sample size and dimensions on the samples\n",
    "sample_size, grid_width, grid_height = 500, 10, 10\n"
   ]
  },
  {
   "cell_type": "code",
   "execution_count": 4,
   "metadata": {},
   "outputs": [],
   "source": [
    "class ScanLayer(nn.Module):\n",
    "    def forward(self, x):\n",
    "        # Applying circular pad function to the input tensor x.\n",
    "        padded_x = self.circular_pad(x, padding=custom_padding)\n",
    "        return padded_x\n",
    "    \n",
    "    def circular_pad(self, x, padding):\n",
    "        top, bottom, left, right = padding\n",
    "        # Pad the input tensor along verical axis\n",
    "        padded_x = torch.cat([x[:, :, -top:, :], x, x[:, :, :bottom, :]], dim=2)\n",
    "        # Pad the input tensor along horizontal axis\n",
    "        padded_x = torch.cat([padded_x[:, :, :, -left:], padded_x, padded_x[:, :, :, :right]], dim=3)\n",
    "        return padded_x"
   ]
  },
  {
   "cell_type": "code",
   "execution_count": 5,
   "metadata": {},
   "outputs": [],
   "source": [
    "class CAModel(nn.Module):\n",
    "    def __init__(self):\n",
    "        super(CAModel, self).__init__()\n",
    "        \n",
    "        # Total number of layers and neurons per layer\n",
    "        layers_total = 3\n",
    "        neurons = 100\n",
    "\n",
    "        # Array containing all of the layers\n",
    "        layers = []\n",
    "\n",
    "        # Appending ScanLayer and first convolutional layer\n",
    "        layers.append(ScanLayer())\n",
    "        layers.append(nn.Conv2d(2, neurons, kernel_size=filter_size))\n",
    "        layers.append(nn.ReLU())\n",
    "\n",
    "        # Appending the rest of the convolutional layers, besides the final one\n",
    "        for i in range(layers_total - 2):\n",
    "            layers.append(nn.Conv2d(neurons, neurons, kernel_size=1))\n",
    "            layers.append(nn.ReLU())\n",
    "        \n",
    "        # Appending the final convolutional layer\n",
    "        layers.append(nn.Conv2d(neurons, 2, kernel_size=1))\n",
    "\n",
    "        # Grouping layers from the array into the sequence\n",
    "        self.layers = nn.Sequential(*layers)\n",
    "\n",
    "    # Forward pass of the model, running the input tensor through\n",
    "    # the layers of neural network\n",
    "    def forward(self, x):\n",
    "        return self.layers(x)\n"
   ]
  },
  {
   "cell_type": "code",
   "execution_count": 6,
   "metadata": {},
   "outputs": [
    {
     "name": "stdout",
     "output_type": "stream",
     "text": [
      "CAModel(\n",
      "  (layers): Sequential(\n",
      "    (0): ScanLayer()\n",
      "    (1): Conv2d(2, 100, kernel_size=(3, 3), stride=(1, 1))\n",
      "    (2): ReLU()\n",
      "    (3): Conv2d(100, 100, kernel_size=(1, 1), stride=(1, 1))\n",
      "    (4): ReLU()\n",
      "    (5): Conv2d(100, 2, kernel_size=(1, 1), stride=(1, 1))\n",
      "  )\n",
      ")\n"
     ]
    }
   ],
   "source": [
    "# Create an instance of the CAModel.\n",
    "model = CAModel()\n",
    "model = model.to(device)\n",
    "# Scan layer and 12 Conv2d layers of hundred neurons, followed\n",
    "# by RelU activation function\n",
    "print(model)"
   ]
  },
  {
   "cell_type": "code",
   "execution_count": 7,
   "metadata": {},
   "outputs": [],
   "source": [
    "# Define a function for augmenting a 2D grid using a cellular automaton rule.\n",
    "def augment(X, max, min, filter_size):\n",
    "    # Convolve the input grid X with a filter of ones to count neighbors.\n",
    "    neighbors = convolve2d(X, np.ones((filter_size, filter_size)), mode='same', boundary='wrap') - X\n",
    "    # Create a new grid by applying the cellular automaton rule:\n",
    "    # - If a cell has exact number of neighbors(equals to 'max' variable), it becomes alive.\n",
    "    # - If a cell is alive and number of neighbors equals to 'min'\n",
    "    return np.logical_or(neighbors == max, np.logical_and(X, neighbors == min))"
   ]
  },
  {
   "cell_type": "code",
   "execution_count": 8,
   "metadata": {},
   "outputs": [],
   "source": [
    "# Generating initial batch of samples that would be modified and used for model training\n",
    "X_pre = np.random.choice([0, states-1], size=(sample_size, grid_width, grid_height))\n",
    "\n",
    "# Applying 'augment' function to all of the samples of X_pre in order \n",
    "# to apply one step of 'evolution' of the CA and converting it to tensor\n",
    "# cells_alive, cells_dead and filter_size parameters are used to modify the rules of CA-augmentation\n",
    "Y_pre = np.stack([augment(d, neighbors_max, neighbors_min, filter_size) for d in X_pre])\n",
    "Y_augmented = torch.tensor(Y_pre, dtype=torch.long).to(device)\n",
    "\n",
    "# Creating negated complement array to X_pre in order to maximize generalization and converting it to tensor\n",
    "X_neg = 1 - X_pre\n",
    "X_pre = np.stack([X_neg, X_pre], axis=1)\n",
    "X_train = torch.tensor(X_pre, dtype=torch.float32).to(device)"
   ]
  },
  {
   "cell_type": "code",
   "execution_count": 9,
   "metadata": {},
   "outputs": [
    {
     "name": "stdout",
     "output_type": "stream",
     "text": [
      "torch.Size([500, 2, 10, 10])\n",
      "torch.Size([500, 10, 10])\n"
     ]
    }
   ],
   "source": [
    "# A shape of sample_size x 2 x grid_width x grid_height, whereas 1D represents the batch size, \n",
    "# 2D - two complemented versions of X_train\n",
    "# and the last two dimensions are the dimension of the grid\n",
    "print(X_train.shape)\n",
    "\n",
    "# A shape of sample_size x grid_width x grid_height, generally the same as for X_train, \n",
    "# excluding the complemented version\n",
    "print(Y_augmented.shape)"
   ]
  },
  {
   "cell_type": "code",
   "execution_count": 10,
   "metadata": {
    "tags": [
     "parameters"
    ]
   },
   "outputs": [],
   "source": [
    "# Number of training epochs\n",
    "epochs = 500\n",
    "# Initial learning rate\n",
    "learning_rate = 0.01\n",
    "# Learning step size for the scheduler\n",
    "lr_step_size = epochs/4\n",
    "# Gamma factor for scheduler to change the learning rate\n",
    "lr_gamma = 0.5\n",
    "# Setting up an optimizer\n",
    "optimizer = torch.optim.Adam(model.parameters(), lr=learning_rate)\n",
    "#optimizer = torch.optim.SGD(model.parameters(), lr=learning_rate, momentum=0.9)\n",
    "\n",
    "# Setting up the learning rate scheduler given the variables defined before\n",
    "scheduler = StepLR(optimizer, step_size=lr_step_size, gamma=lr_gamma)\n",
    "# Assigning the loss function, CrossEntropyLoss in this case\n",
    "criterion = nn.CrossEntropyLoss()\n",
    "# Array to store the loss values\n",
    "losses = np.zeros(epochs)"
   ]
  },
  {
   "cell_type": "code",
   "execution_count": 11,
   "metadata": {},
   "outputs": [],
   "source": [
    "# Training loop\n",
    "for epoch in range(epochs):\n",
    "    # Forward pass: compute predicted y by passing X_train through the model\n",
    "    y_predicted = model(X_train)\n",
    "    # Compute the loss between the predicted y and the ground truth Y_train\n",
    "    loss = criterion(y_predicted, Y_augmented)\n",
    "    # Store the loss value for the current epoch\n",
    "    losses[epoch] = loss.item()\n",
    "\n",
    "    # Zero the gradients accumulated in the previous iteration\n",
    "    optimizer.zero_grad()\n",
    "    # Backpropagation: compute gradients of the loss with respect to model parameters\n",
    "    loss.backward()\n",
    "    # Update the model parameters using the computed gradients\n",
    "    optimizer.step()\n",
    "    \n",
    "    # Adjust the learning rate based on the learning rate scheduler\n",
    "    scheduler.step()\n",
    "\n",
    "# The training loop completes after all epochs have been processed"
   ]
  },
  {
   "cell_type": "code",
   "execution_count": 12,
   "metadata": {},
   "outputs": [
    {
     "data": {
      "image/png": "[encoded data removed]",
      "text/plain": [
       "<Figure size 640x480 with 1 Axes>"
      ]
     },
     "metadata": {},
     "output_type": "display_data"
    },
    {
     "name": "stdout",
     "output_type": "stream",
     "text": [
      "Last loss: 2.9165837531763827e-06\n"
     ]
    }
   ],
   "source": [
    "# Plotting the losses graph based on the training loop\n",
    "plt.plot(losses)\n",
    "plt.xlabel('Epoch')\n",
    "plt.ylabel('Loss')\n",
    "plt.title('Training Loss Curve')\n",
    "plt.show()\n",
    "print(f\"Last loss: {losses[-1]}\")"
   ]
  },
  {
   "cell_type": "code",
   "execution_count": 13,
   "metadata": {},
   "outputs": [],
   "source": [
    "# Saving model to a file\n",
    "save_path = 'model.pth'\n",
    "torch.save(model.state_dict(), save_path)"
   ]
  },
  {
   "cell_type": "code",
   "execution_count": 14,
   "metadata": {},
   "outputs": [
    {
     "data": {
      "text/plain": [
       "(-0.5, 49.5, 49.5, -0.5)"
      ]
     },
     "execution_count": 14,
     "metadata": {},
     "output_type": "execute_result"
    },
    {
     "data": {
      "image/png": "[encoded data removed]",
      "text/plain": [
       "<Figure size 640x480 with 1 Axes>"
      ]
     },
     "metadata": {},
     "output_type": "display_data"
    }
   ],
   "source": [
    "# Game of Life Beacon:\n",
    "#val_figure = np.array([[0,0,0,0,0,0],\n",
    "#                      [0,1,1,0,0,0],\n",
    "#                      [0,1,0,0,0,0],\n",
    "#                      [0,0,0,0,1,0],\n",
    "#                      [0,0,0,1,1,0],\n",
    "#                      [0,0,0,0,0,0]])\n",
    "\n",
    "# Randomly generated grid\n",
    "val_figure = np.random.choice([0, states-1], size=(50, 50)) \n",
    "\n",
    "# Plotting validation grid\n",
    "plt.imshow(val_figure, cmap='terrain')\n",
    "plt.axis(\"off\")"
   ]
  },
  {
   "cell_type": "code",
   "execution_count": 15,
   "metadata": {},
   "outputs": [],
   "source": [
    "# Validation data preparation for CNN architecture CA\n",
    "gen0 = val_figure\n",
    "cnn_val = np.stack([1 - gen0, gen0])\n",
    "cnn_val = torch.from_numpy(cnn_val).float().unsqueeze(0).to(device)\n",
    "cnn_val_gen0 = cnn_val"
   ]
  },
  {
   "cell_type": "code",
   "execution_count": 16,
   "metadata": {},
   "outputs": [
    {
     "data": {
      "image/png": "[encoded data removed]",
      "text/plain": [
       "<Figure size 600x900 with 6 Axes>"
      ]
     },
     "metadata": {},
     "output_type": "display_data"
    }
   ],
   "source": [
    "# Plotting the comparison between 'augment' function and CA-CNN outcomes\n",
    "num_plots = 3\n",
    "\n",
    "num_rows = num_plots\n",
    "num_cols = 2\n",
    "\n",
    "figsize = (6, 3 * num_rows)\n",
    "\n",
    "fig, ax = plt.subplots(num_rows, num_cols, figsize=figsize)\n",
    "\n",
    "# Ensuring correct number of dimensions for only one row of examples\n",
    "if num_rows == 1:\n",
    "    ax = np.expand_dims(ax, axis=0)\n",
    "\n",
    "# Loop that takes validation data through both of the CA architectures\n",
    "for k in range(num_plots):\n",
    "    val_figure = augment(val_figure, 3, 2, 3)\n",
    "    ax[k, 0].imshow(val_figure, cmap=\"PuBu\")\n",
    "    ax[k, 0].set_title('Function, generation: ' + str(k + 1))\n",
    "    ax[k, 0].axis('off')\n",
    "\n",
    "    cnn_val = torch.softmax(model(cnn_val), dim=1)\n",
    "    ax[k, 1].imshow(cnn_val.cpu().detach().numpy()[0, 0], cmap=\"BuPu_r\")\n",
    "    ax[k, 1].set_title('CNN, generation: ' + str(k + 1))\n",
    "    ax[k, 1].axis('off')\n",
    "\n",
    "plt.tight_layout()\n",
    "plt.show()\n",
    "\n",
    "# Resetting validation data to initial state\n",
    "val_figure = gen0\n",
    "cnn_val = cnn_val_gen0"
   ]
  }
 ],
 "metadata": {
  "kernelspec": {
   "display_name": "ML",
   "language": "python",
   "name": "python3"
  },
  "language_info": {
   "codemirror_mode": {
    "name": "ipython",
    "version": 3
   },
   "file_extension": ".py",
   "mimetype": "text/x-python",
   "name": "python",
   "nbconvert_exporter": "python",
   "pygments_lexer": "ipython3",
   "version": "3.10.11"
  },
  "orig_nbformat": 4
 },
 "nbformat": 4,
 "nbformat_minor": 2
}
